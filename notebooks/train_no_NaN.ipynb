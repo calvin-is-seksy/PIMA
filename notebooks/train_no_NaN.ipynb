{
 "cells": [
  {
   "cell_type": "markdown",
   "metadata": {},
   "source": [
    "# Predictive Modeling # \n",
    "We will use Keras for a logistic regression model. In this notebook, we will be eradicating all instances that include a missing value. With the training at the bottom of this notebook, we reach an accuracy of 69.6% diagnosis. "
   ]
  },
  {
   "cell_type": "code",
   "execution_count": 1,
   "metadata": {},
   "outputs": [],
   "source": [
    "import pandas as pd \n",
    "import matplotlib.pyplot as plt \n",
    "import seaborn as sb\n",
    "import numpy as np \n",
    "import itertools\n",
    "\n",
    "plt.style.use('fivethirtyeight')\n",
    "\n",
    "from subprocess import check_output \n",
    "\n",
    "from sklearn.model_selection import train_test_split\n",
    "from sklearn import metrics"
   ]
  },
  {
   "cell_type": "code",
   "execution_count": 2,
   "metadata": {},
   "outputs": [],
   "source": [
    "diabetes = pd.read_csv('../data/pima-indians-diabetes.data.csv', header=None)"
   ]
  },
  {
   "cell_type": "markdown",
   "metadata": {},
   "source": [
    "## Cleaning out the missing values ## "
   ]
  },
  {
   "cell_type": "code",
   "execution_count": 3,
   "metadata": {},
   "outputs": [
    {
     "data": {
      "text/html": [
       "<div>\n",
       "<style scoped>\n",
       "    .dataframe tbody tr th:only-of-type {\n",
       "        vertical-align: middle;\n",
       "    }\n",
       "\n",
       "    .dataframe tbody tr th {\n",
       "        vertical-align: top;\n",
       "    }\n",
       "\n",
       "    .dataframe thead th {\n",
       "        text-align: right;\n",
       "    }\n",
       "</style>\n",
       "<table border=\"1\" class=\"dataframe\">\n",
       "  <thead>\n",
       "    <tr style=\"text-align: right;\">\n",
       "      <th></th>\n",
       "      <th>0</th>\n",
       "      <th>1</th>\n",
       "      <th>2</th>\n",
       "      <th>3</th>\n",
       "      <th>4</th>\n",
       "      <th>5</th>\n",
       "      <th>6</th>\n",
       "      <th>7</th>\n",
       "      <th>8</th>\n",
       "    </tr>\n",
       "  </thead>\n",
       "  <tbody>\n",
       "    <tr>\n",
       "      <th>0</th>\n",
       "      <td>6</td>\n",
       "      <td>148</td>\n",
       "      <td>72</td>\n",
       "      <td>35</td>\n",
       "      <td>0</td>\n",
       "      <td>33.6</td>\n",
       "      <td>0.627</td>\n",
       "      <td>50</td>\n",
       "      <td>1</td>\n",
       "    </tr>\n",
       "    <tr>\n",
       "      <th>1</th>\n",
       "      <td>1</td>\n",
       "      <td>85</td>\n",
       "      <td>66</td>\n",
       "      <td>29</td>\n",
       "      <td>0</td>\n",
       "      <td>26.6</td>\n",
       "      <td>0.351</td>\n",
       "      <td>31</td>\n",
       "      <td>0</td>\n",
       "    </tr>\n",
       "    <tr>\n",
       "      <th>2</th>\n",
       "      <td>8</td>\n",
       "      <td>183</td>\n",
       "      <td>64</td>\n",
       "      <td>0</td>\n",
       "      <td>0</td>\n",
       "      <td>23.3</td>\n",
       "      <td>0.672</td>\n",
       "      <td>32</td>\n",
       "      <td>1</td>\n",
       "    </tr>\n",
       "  </tbody>\n",
       "</table>\n",
       "</div>"
      ],
      "text/plain": [
       "   0    1   2   3  4     5      6   7  8\n",
       "0  6  148  72  35  0  33.6  0.627  50  1\n",
       "1  1   85  66  29  0  26.6  0.351  31  0\n",
       "2  8  183  64   0  0  23.3  0.672  32  1"
      ]
     },
     "execution_count": 3,
     "metadata": {},
     "output_type": "execute_result"
    }
   ],
   "source": [
    "diabetes.head(3)"
   ]
  },
  {
   "cell_type": "code",
   "execution_count": 4,
   "metadata": {},
   "outputs": [
    {
     "name": "stdout",
     "output_type": "stream",
     "text": [
      "0      0\n",
      "1      5\n",
      "2     35\n",
      "3    227\n",
      "4    374\n",
      "5     11\n",
      "6      0\n",
      "7      0\n",
      "8      0\n",
      "dtype: int64\n"
     ]
    }
   ],
   "source": [
    "diabetes[[1,2,3,4,5]] = diabetes[[1,2,3,4,5]].replace(0, np.NaN)\n",
    "print(diabetes.isnull().sum())"
   ]
  },
  {
   "cell_type": "code",
   "execution_count": 5,
   "metadata": {},
   "outputs": [
    {
     "data": {
      "text/html": [
       "<div>\n",
       "<style scoped>\n",
       "    .dataframe tbody tr th:only-of-type {\n",
       "        vertical-align: middle;\n",
       "    }\n",
       "\n",
       "    .dataframe tbody tr th {\n",
       "        vertical-align: top;\n",
       "    }\n",
       "\n",
       "    .dataframe thead th {\n",
       "        text-align: right;\n",
       "    }\n",
       "</style>\n",
       "<table border=\"1\" class=\"dataframe\">\n",
       "  <thead>\n",
       "    <tr style=\"text-align: right;\">\n",
       "      <th></th>\n",
       "      <th>0</th>\n",
       "      <th>1</th>\n",
       "      <th>2</th>\n",
       "      <th>3</th>\n",
       "      <th>4</th>\n",
       "      <th>5</th>\n",
       "      <th>6</th>\n",
       "      <th>7</th>\n",
       "      <th>8</th>\n",
       "    </tr>\n",
       "  </thead>\n",
       "  <tbody>\n",
       "    <tr>\n",
       "      <th>0</th>\n",
       "      <td>6</td>\n",
       "      <td>148.0</td>\n",
       "      <td>72.0</td>\n",
       "      <td>35.0</td>\n",
       "      <td>NaN</td>\n",
       "      <td>33.6</td>\n",
       "      <td>0.627</td>\n",
       "      <td>50</td>\n",
       "      <td>1</td>\n",
       "    </tr>\n",
       "    <tr>\n",
       "      <th>1</th>\n",
       "      <td>1</td>\n",
       "      <td>85.0</td>\n",
       "      <td>66.0</td>\n",
       "      <td>29.0</td>\n",
       "      <td>NaN</td>\n",
       "      <td>26.6</td>\n",
       "      <td>0.351</td>\n",
       "      <td>31</td>\n",
       "      <td>0</td>\n",
       "    </tr>\n",
       "    <tr>\n",
       "      <th>2</th>\n",
       "      <td>8</td>\n",
       "      <td>183.0</td>\n",
       "      <td>64.0</td>\n",
       "      <td>NaN</td>\n",
       "      <td>NaN</td>\n",
       "      <td>23.3</td>\n",
       "      <td>0.672</td>\n",
       "      <td>32</td>\n",
       "      <td>1</td>\n",
       "    </tr>\n",
       "  </tbody>\n",
       "</table>\n",
       "</div>"
      ],
      "text/plain": [
       "   0      1     2     3   4     5      6   7  8\n",
       "0  6  148.0  72.0  35.0 NaN  33.6  0.627  50  1\n",
       "1  1   85.0  66.0  29.0 NaN  26.6  0.351  31  0\n",
       "2  8  183.0  64.0   NaN NaN  23.3  0.672  32  1"
      ]
     },
     "execution_count": 5,
     "metadata": {},
     "output_type": "execute_result"
    }
   ],
   "source": [
    "diabetes.head(3)"
   ]
  },
  {
   "cell_type": "markdown",
   "metadata": {},
   "source": [
    "## Eradicate all instances with NaN ## "
   ]
  },
  {
   "cell_type": "code",
   "execution_count": 6,
   "metadata": {},
   "outputs": [],
   "source": [
    "diabetes.dropna(inplace=True)"
   ]
  },
  {
   "cell_type": "code",
   "execution_count": 21,
   "metadata": {},
   "outputs": [
    {
     "name": "stdout",
     "output_type": "stream",
     "text": [
      "(313, 8)\n",
      "(79, 8)\n"
     ]
    }
   ],
   "source": [
    "train, test = train_test_split(diabetes, \n",
    "                               test_size=.20, \n",
    "                               random_state=0, \n",
    "                               stratify=diabetes[8])\n",
    "\n",
    "train_X = train[train.columns[:8]]\n",
    "test_X = test[test.columns[:8]]\n",
    "\n",
    "train_Y = train[8]\n",
    "test_Y = test[8]\n",
    "\n",
    "print train_X.shape\n",
    "print test_X.shape"
   ]
  },
  {
   "cell_type": "code",
   "execution_count": 53,
   "metadata": {},
   "outputs": [
    {
     "name": "stdout",
     "output_type": "stream",
     "text": [
      "104\n",
      "209\n",
      "313\n"
     ]
    }
   ],
   "source": [
    "count_1 = 0\n",
    "count_0 = 0\n",
    "for i in train_Y: \n",
    "    if i == 1: count_1+=1\n",
    "    if i == 0: count_0+=1 \n",
    "\n",
    "print count_1 \n",
    "print count_0\n",
    "print len(train_Y)"
   ]
  },
  {
   "cell_type": "code",
   "execution_count": 46,
   "metadata": {},
   "outputs": [
    {
     "ename": "AttributeError",
     "evalue": "'numpy.ndarray' object has no attribute 'values'",
     "output_type": "error",
     "traceback": [
      "\u001b[0;31m---------------------------------------------------------------------------\u001b[0m",
      "\u001b[0;31mAttributeError\u001b[0m                            Traceback (most recent call last)",
      "\u001b[0;32m<ipython-input-46-d4720b6fa1a7>\u001b[0m in \u001b[0;36m<module>\u001b[0;34m()\u001b[0m\n\u001b[0;32m----> 1\u001b[0;31m \u001b[0mtest_X\u001b[0m \u001b[0;34m=\u001b[0m \u001b[0mtest_X\u001b[0m\u001b[0;34m.\u001b[0m\u001b[0mvalues\u001b[0m\u001b[0;34m\u001b[0m\u001b[0m\n\u001b[0m\u001b[1;32m      2\u001b[0m \u001b[0mtrain_X\u001b[0m \u001b[0;34m=\u001b[0m \u001b[0mtrain_X\u001b[0m\u001b[0;34m.\u001b[0m\u001b[0mvalues\u001b[0m\u001b[0;34m\u001b[0m\u001b[0m\n\u001b[1;32m      3\u001b[0m \u001b[0mtest_Y\u001b[0m \u001b[0;34m=\u001b[0m \u001b[0mtest_Y\u001b[0m\u001b[0;34m.\u001b[0m\u001b[0mvalues\u001b[0m\u001b[0;34m\u001b[0m\u001b[0m\n\u001b[1;32m      4\u001b[0m \u001b[0mtrain_Y\u001b[0m \u001b[0;34m=\u001b[0m \u001b[0mtrain_Y\u001b[0m\u001b[0;34m.\u001b[0m\u001b[0mvalues\u001b[0m\u001b[0;34m\u001b[0m\u001b[0m\n\u001b[1;32m      5\u001b[0m \u001b[0;34m\u001b[0m\u001b[0m\n",
      "\u001b[0;31mAttributeError\u001b[0m: 'numpy.ndarray' object has no attribute 'values'"
     ]
    }
   ],
   "source": [
    "test_X = test_X.values\n",
    "train_X = train_X.values\n",
    "test_Y = test_Y.values\n",
    "train_Y = train_Y.values"
   ]
  },
  {
   "cell_type": "code",
   "execution_count": 62,
   "metadata": {},
   "outputs": [],
   "source": [
    "train_Y_format = np.zeros(shape=(len(train_Y), 2))\n",
    "for i in range(len(train_Y)):\n",
    "    if train_Y[i] == 0: \n",
    "        train_Y_format[i] = [1,0]\n",
    "    elif train_Y[i] == 1: \n",
    "        train_Y_format[i] = [0,1]\n",
    "    else: \n",
    "        print \"uh oh\""
   ]
  },
  {
   "cell_type": "code",
   "execution_count": 64,
   "metadata": {},
   "outputs": [],
   "source": [
    "test_Y_format = np.zeros(shape=(len(test_Y), 2))\n",
    "for i in range(len(test_Y)):\n",
    "    if test_Y[i] == 0: \n",
    "        test_Y_format[i] = [1,0]\n",
    "    elif test_Y[i] == 1: \n",
    "        test_Y_format[i] = [0,1]\n",
    "    else: \n",
    "        print \"uh oh\""
   ]
  },
  {
   "cell_type": "markdown",
   "metadata": {},
   "source": [
    "# Let's attempt to train a logistic regression model # "
   ]
  },
  {
   "cell_type": "code",
   "execution_count": 77,
   "metadata": {},
   "outputs": [],
   "source": [
    "from keras.models import Sequential \n",
    "from keras.layers import Dense, Activation \n",
    "from keras.regularizers import L1L2\n",
    "\n",
    "output_dim = nb_classes = 2\n",
    "input_dim = 8\n",
    "\n",
    "model = Sequential() \n",
    "model.add(Dense(output_dim, \n",
    "                input_dim=input_dim, \n",
    "                activation='softmax',\n",
    "                kernel_regularizer=L1L2(l1=0.0, l2=0.1),\n",
    "                )) \n",
    "batch_size = 5\n",
    "nb_epoch = 40"
   ]
  },
  {
   "cell_type": "code",
   "execution_count": 79,
   "metadata": {},
   "outputs": [
    {
     "name": "stdout",
     "output_type": "stream",
     "text": [
      "Train on 313 samples, validate on 79 samples\n",
      "Epoch 1/40\n",
      "313/313 [==============================] - 1s 2ms/step - loss: 3.2442 - acc: 0.5974 - val_loss: 0.7273 - val_acc: 0.5316\n",
      "Epoch 2/40\n",
      "313/313 [==============================] - 0s 698us/step - loss: 0.7109 - acc: 0.6294 - val_loss: 0.7766 - val_acc: 0.5316\n",
      "Epoch 3/40\n",
      "313/313 [==============================] - 0s 723us/step - loss: 0.6505 - acc: 0.6613 - val_loss: 0.6545 - val_acc: 0.6456\n",
      "Epoch 4/40\n",
      "313/313 [==============================] - 0s 636us/step - loss: 0.6103 - acc: 0.6997 - val_loss: 0.6416 - val_acc: 0.6329\n",
      "Epoch 5/40\n",
      "313/313 [==============================] - 0s 662us/step - loss: 0.6037 - acc: 0.6965 - val_loss: 0.6140 - val_acc: 0.7089\n",
      "Epoch 6/40\n",
      "313/313 [==============================] - 0s 758us/step - loss: 0.6103 - acc: 0.6933 - val_loss: 0.6642 - val_acc: 0.6709\n",
      "Epoch 7/40\n",
      "313/313 [==============================] - 0s 781us/step - loss: 0.5978 - acc: 0.7061 - val_loss: 0.6580 - val_acc: 0.6835\n",
      "Epoch 8/40\n",
      "313/313 [==============================] - 0s 781us/step - loss: 0.6123 - acc: 0.6645 - val_loss: 0.8034 - val_acc: 0.6709\n",
      "Epoch 9/40\n",
      "313/313 [==============================] - 0s 759us/step - loss: 0.6039 - acc: 0.7029 - val_loss: 0.6372 - val_acc: 0.6962\n",
      "Epoch 10/40\n",
      "313/313 [==============================] - 0s 854us/step - loss: 0.5916 - acc: 0.6933 - val_loss: 0.6653 - val_acc: 0.6709\n",
      "Epoch 11/40\n",
      "313/313 [==============================] - 0s 680us/step - loss: 0.5979 - acc: 0.7061 - val_loss: 0.5944 - val_acc: 0.6835\n",
      "Epoch 12/40\n",
      "313/313 [==============================] - 0s 644us/step - loss: 0.5870 - acc: 0.7125 - val_loss: 0.6183 - val_acc: 0.7089\n",
      "Epoch 13/40\n",
      "313/313 [==============================] - 0s 692us/step - loss: 0.5765 - acc: 0.7316 - val_loss: 0.6269 - val_acc: 0.7089\n",
      "Epoch 14/40\n",
      "313/313 [==============================] - 0s 722us/step - loss: 0.5798 - acc: 0.7125 - val_loss: 0.6011 - val_acc: 0.6962\n",
      "Epoch 15/40\n",
      "313/313 [==============================] - 0s 705us/step - loss: 0.5783 - acc: 0.7188 - val_loss: 0.6784 - val_acc: 0.6203\n",
      "Epoch 16/40\n",
      "313/313 [==============================] - 0s 704us/step - loss: 0.5786 - acc: 0.7188 - val_loss: 0.5992 - val_acc: 0.6962\n",
      "Epoch 17/40\n",
      "313/313 [==============================] - 0s 809us/step - loss: 0.5739 - acc: 0.7284 - val_loss: 0.5903 - val_acc: 0.6709\n",
      "Epoch 18/40\n",
      "313/313 [==============================] - 0s 872us/step - loss: 0.5768 - acc: 0.7125 - val_loss: 0.5893 - val_acc: 0.6709\n",
      "Epoch 19/40\n",
      "313/313 [==============================] - 0s 896us/step - loss: 0.5837 - acc: 0.7157 - val_loss: 0.5905 - val_acc: 0.7089\n",
      "Epoch 20/40\n",
      "313/313 [==============================] - 0s 801us/step - loss: 0.5757 - acc: 0.7188 - val_loss: 0.5887 - val_acc: 0.6709\n",
      "Epoch 21/40\n",
      "313/313 [==============================] - 0s 712us/step - loss: 0.5758 - acc: 0.7093 - val_loss: 0.5846 - val_acc: 0.6835\n",
      "Epoch 22/40\n",
      "313/313 [==============================] - 0s 848us/step - loss: 0.5785 - acc: 0.7061 - val_loss: 0.5998 - val_acc: 0.7089\n",
      "Epoch 23/40\n",
      "313/313 [==============================] - 0s 796us/step - loss: 0.5796 - acc: 0.7029 - val_loss: 0.5922 - val_acc: 0.7089\n",
      "Epoch 24/40\n",
      "313/313 [==============================] - 0s 713us/step - loss: 0.5808 - acc: 0.7029 - val_loss: 0.5924 - val_acc: 0.7089\n",
      "Epoch 25/40\n",
      "313/313 [==============================] - 0s 663us/step - loss: 0.5698 - acc: 0.7252 - val_loss: 0.5974 - val_acc: 0.6962\n",
      "Epoch 26/40\n",
      "313/313 [==============================] - 0s 750us/step - loss: 0.5769 - acc: 0.7061 - val_loss: 0.6059 - val_acc: 0.6709\n",
      "Epoch 27/40\n",
      "313/313 [==============================] - 0s 768us/step - loss: 0.5774 - acc: 0.7188 - val_loss: 0.5965 - val_acc: 0.6962\n",
      "Epoch 28/40\n",
      "313/313 [==============================] - 0s 760us/step - loss: 0.5757 - acc: 0.7029 - val_loss: 0.6063 - val_acc: 0.7089\n",
      "Epoch 29/40\n",
      "313/313 [==============================] - 0s 751us/step - loss: 0.5736 - acc: 0.6997 - val_loss: 0.5916 - val_acc: 0.6709\n",
      "Epoch 30/40\n",
      "313/313 [==============================] - 0s 701us/step - loss: 0.5718 - acc: 0.7157 - val_loss: 0.5889 - val_acc: 0.6709\n",
      "Epoch 31/40\n",
      "313/313 [==============================] - 0s 679us/step - loss: 0.5749 - acc: 0.7157 - val_loss: 0.5918 - val_acc: 0.6835\n",
      "Epoch 32/40\n",
      "313/313 [==============================] - 0s 950us/step - loss: 0.5716 - acc: 0.7157 - val_loss: 0.6003 - val_acc: 0.6709\n",
      "Epoch 33/40\n",
      "313/313 [==============================] - 0s 824us/step - loss: 0.5663 - acc: 0.7093 - val_loss: 0.6346 - val_acc: 0.6709\n",
      "Epoch 34/40\n",
      "313/313 [==============================] - 0s 889us/step - loss: 0.5623 - acc: 0.7220 - val_loss: 0.6139 - val_acc: 0.6835\n",
      "Epoch 35/40\n",
      "313/313 [==============================] - 0s 775us/step - loss: 0.5708 - acc: 0.7412 - val_loss: 0.5973 - val_acc: 0.7089\n",
      "Epoch 36/40\n",
      "313/313 [==============================] - 0s 709us/step - loss: 0.5701 - acc: 0.7029 - val_loss: 0.5879 - val_acc: 0.6835\n",
      "Epoch 37/40\n",
      "313/313 [==============================] - 0s 856us/step - loss: 0.5758 - acc: 0.7125 - val_loss: 0.5895 - val_acc: 0.6709\n",
      "Epoch 38/40\n",
      "313/313 [==============================] - 0s 708us/step - loss: 0.5726 - acc: 0.7157 - val_loss: 0.6004 - val_acc: 0.7089\n",
      "Epoch 39/40\n",
      "313/313 [==============================] - 0s 782us/step - loss: 0.5708 - acc: 0.7220 - val_loss: 0.5925 - val_acc: 0.7089\n",
      "Epoch 40/40\n",
      "313/313 [==============================] - 0s 808us/step - loss: 0.5692 - acc: 0.7125 - val_loss: 0.5966 - val_acc: 0.6962\n",
      "('Test score:', 0.59663231991514376)\n",
      "('Test accuracy:', 0.69620253617250472)\n"
     ]
    }
   ],
   "source": [
    "model.compile(optimizer='adagrad', \n",
    "              loss='categorical_crossentropy', \n",
    "              metrics=['accuracy']) \n",
    "\n",
    "model.fit(train_X, train_Y_format, \n",
    "                    batch_size=batch_size, \n",
    "                    nb_epoch=nb_epoch,\n",
    "                    verbose=1, \n",
    "                    validation_data=(test_X, test_Y_format)) \n",
    "\n",
    "score = model.evaluate(test_X, test_Y_format, verbose=0) \n",
    "\n",
    "print('Test score:', score[0]) \n",
    "print('Test accuracy:', score[1])"
   ]
  },
  {
   "cell_type": "markdown",
   "metadata": {},
   "source": [
    "# RESULTS #\n",
    "\n",
    "So in this notebook, we chose to eradicate all instances with missing values. After training for 40 epochs with batch sizes of 5, we arrived at 69.6% accuracy. We will move on to the next notebook to attempt variations of data augmentation in hopes of increasing the usable dataset. "
   ]
  },
  {
   "cell_type": "code",
   "execution_count": null,
   "metadata": {},
   "outputs": [],
   "source": []
  }
 ],
 "metadata": {
  "kernelspec": {
   "display_name": "Python [conda env:main]",
   "language": "python",
   "name": "conda-env-main-py"
  },
  "language_info": {
   "codemirror_mode": {
    "name": "ipython",
    "version": 2
   },
   "file_extension": ".py",
   "mimetype": "text/x-python",
   "name": "python",
   "nbconvert_exporter": "python",
   "pygments_lexer": "ipython2",
   "version": "2.7.13"
  }
 },
 "nbformat": 4,
 "nbformat_minor": 2
}
