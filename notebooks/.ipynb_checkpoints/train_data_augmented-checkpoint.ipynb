{
 "cells": [
  {
   "cell_type": "markdown",
   "metadata": {},
   "source": [
    "# Predictive Modeling # \n",
    "We will use Keras for a logistic regression model. In this notebook, we will be eradicating all instances that include a missing value. With the training at the bottom of this notebook, we reach an accuracy of 69.6% diagnosis. "
   ]
  },
  {
   "cell_type": "code",
   "execution_count": 1,
   "metadata": {},
   "outputs": [],
   "source": [
    "import pandas as pd \n",
    "import matplotlib.pyplot as plt \n",
    "import seaborn as sb\n",
    "import numpy as np \n",
    "import itertools\n",
    "\n",
    "plt.style.use('fivethirtyeight')\n",
    "\n",
    "from subprocess import check_output \n",
    "\n",
    "from sklearn.model_selection import train_test_split\n",
    "from sklearn import metrics"
   ]
  },
  {
   "cell_type": "code",
   "execution_count": 2,
   "metadata": {},
   "outputs": [],
   "source": [
    "diabetes = pd.read_csv('../data/pima-indians-diabetes.data.csv', header=None)"
   ]
  },
  {
   "cell_type": "markdown",
   "metadata": {},
   "source": [
    "## Cleaning out the missing values ## "
   ]
  },
  {
   "cell_type": "code",
   "execution_count": 3,
   "metadata": {},
   "outputs": [
    {
     "data": {
      "text/html": [
       "<div>\n",
       "<style scoped>\n",
       "    .dataframe tbody tr th:only-of-type {\n",
       "        vertical-align: middle;\n",
       "    }\n",
       "\n",
       "    .dataframe tbody tr th {\n",
       "        vertical-align: top;\n",
       "    }\n",
       "\n",
       "    .dataframe thead th {\n",
       "        text-align: right;\n",
       "    }\n",
       "</style>\n",
       "<table border=\"1\" class=\"dataframe\">\n",
       "  <thead>\n",
       "    <tr style=\"text-align: right;\">\n",
       "      <th></th>\n",
       "      <th>0</th>\n",
       "      <th>1</th>\n",
       "      <th>2</th>\n",
       "      <th>3</th>\n",
       "      <th>4</th>\n",
       "      <th>5</th>\n",
       "      <th>6</th>\n",
       "      <th>7</th>\n",
       "      <th>8</th>\n",
       "    </tr>\n",
       "  </thead>\n",
       "  <tbody>\n",
       "    <tr>\n",
       "      <th>0</th>\n",
       "      <td>6</td>\n",
       "      <td>148</td>\n",
       "      <td>72</td>\n",
       "      <td>35</td>\n",
       "      <td>0</td>\n",
       "      <td>33.6</td>\n",
       "      <td>0.627</td>\n",
       "      <td>50</td>\n",
       "      <td>1</td>\n",
       "    </tr>\n",
       "    <tr>\n",
       "      <th>1</th>\n",
       "      <td>1</td>\n",
       "      <td>85</td>\n",
       "      <td>66</td>\n",
       "      <td>29</td>\n",
       "      <td>0</td>\n",
       "      <td>26.6</td>\n",
       "      <td>0.351</td>\n",
       "      <td>31</td>\n",
       "      <td>0</td>\n",
       "    </tr>\n",
       "    <tr>\n",
       "      <th>2</th>\n",
       "      <td>8</td>\n",
       "      <td>183</td>\n",
       "      <td>64</td>\n",
       "      <td>0</td>\n",
       "      <td>0</td>\n",
       "      <td>23.3</td>\n",
       "      <td>0.672</td>\n",
       "      <td>32</td>\n",
       "      <td>1</td>\n",
       "    </tr>\n",
       "  </tbody>\n",
       "</table>\n",
       "</div>"
      ],
      "text/plain": [
       "   0    1   2   3  4     5      6   7  8\n",
       "0  6  148  72  35  0  33.6  0.627  50  1\n",
       "1  1   85  66  29  0  26.6  0.351  31  0\n",
       "2  8  183  64   0  0  23.3  0.672  32  1"
      ]
     },
     "execution_count": 3,
     "metadata": {},
     "output_type": "execute_result"
    }
   ],
   "source": [
    "diabetes.head(3)"
   ]
  },
  {
   "cell_type": "code",
   "execution_count": 4,
   "metadata": {},
   "outputs": [
    {
     "name": "stdout",
     "output_type": "stream",
     "text": [
      "0      0\n",
      "1      5\n",
      "2     35\n",
      "3    227\n",
      "4    374\n",
      "5     11\n",
      "6      0\n",
      "7      0\n",
      "8      0\n",
      "dtype: int64\n"
     ]
    }
   ],
   "source": [
    "diabetes[[1,2,3,4,5]] = diabetes[[1,2,3,4,5]].replace(0, np.NaN)\n",
    "print(diabetes.isnull().sum())"
   ]
  },
  {
   "cell_type": "code",
   "execution_count": 5,
   "metadata": {},
   "outputs": [
    {
     "data": {
      "text/html": [
       "<div>\n",
       "<style scoped>\n",
       "    .dataframe tbody tr th:only-of-type {\n",
       "        vertical-align: middle;\n",
       "    }\n",
       "\n",
       "    .dataframe tbody tr th {\n",
       "        vertical-align: top;\n",
       "    }\n",
       "\n",
       "    .dataframe thead th {\n",
       "        text-align: right;\n",
       "    }\n",
       "</style>\n",
       "<table border=\"1\" class=\"dataframe\">\n",
       "  <thead>\n",
       "    <tr style=\"text-align: right;\">\n",
       "      <th></th>\n",
       "      <th>0</th>\n",
       "      <th>1</th>\n",
       "      <th>2</th>\n",
       "      <th>3</th>\n",
       "      <th>4</th>\n",
       "      <th>5</th>\n",
       "      <th>6</th>\n",
       "      <th>7</th>\n",
       "      <th>8</th>\n",
       "    </tr>\n",
       "  </thead>\n",
       "  <tbody>\n",
       "    <tr>\n",
       "      <th>0</th>\n",
       "      <td>6</td>\n",
       "      <td>148.0</td>\n",
       "      <td>72.0</td>\n",
       "      <td>35.0</td>\n",
       "      <td>NaN</td>\n",
       "      <td>33.6</td>\n",
       "      <td>0.627</td>\n",
       "      <td>50</td>\n",
       "      <td>1</td>\n",
       "    </tr>\n",
       "    <tr>\n",
       "      <th>1</th>\n",
       "      <td>1</td>\n",
       "      <td>85.0</td>\n",
       "      <td>66.0</td>\n",
       "      <td>29.0</td>\n",
       "      <td>NaN</td>\n",
       "      <td>26.6</td>\n",
       "      <td>0.351</td>\n",
       "      <td>31</td>\n",
       "      <td>0</td>\n",
       "    </tr>\n",
       "    <tr>\n",
       "      <th>2</th>\n",
       "      <td>8</td>\n",
       "      <td>183.0</td>\n",
       "      <td>64.0</td>\n",
       "      <td>NaN</td>\n",
       "      <td>NaN</td>\n",
       "      <td>23.3</td>\n",
       "      <td>0.672</td>\n",
       "      <td>32</td>\n",
       "      <td>1</td>\n",
       "    </tr>\n",
       "  </tbody>\n",
       "</table>\n",
       "</div>"
      ],
      "text/plain": [
       "   0      1     2     3   4     5      6   7  8\n",
       "0  6  148.0  72.0  35.0 NaN  33.6  0.627  50  1\n",
       "1  1   85.0  66.0  29.0 NaN  26.6  0.351  31  0\n",
       "2  8  183.0  64.0   NaN NaN  23.3  0.672  32  1"
      ]
     },
     "execution_count": 5,
     "metadata": {},
     "output_type": "execute_result"
    }
   ],
   "source": [
    "diabetes.head(3)"
   ]
  },
  {
   "cell_type": "markdown",
   "metadata": {},
   "source": [
    "## Eradicate all instances with NaN ## "
   ]
  },
  {
   "cell_type": "code",
   "execution_count": 6,
   "metadata": {},
   "outputs": [],
   "source": [
    "diabetes.dropna(inplace=True)"
   ]
  },
  {
   "cell_type": "code",
   "execution_count": 7,
   "metadata": {},
   "outputs": [
    {
     "name": "stdout",
     "output_type": "stream",
     "text": [
      "(313, 8)\n",
      "(79, 8)\n"
     ]
    }
   ],
   "source": [
    "train, test = train_test_split(diabetes, \n",
    "                               test_size=.20, \n",
    "                               random_state=0, \n",
    "                               stratify=diabetes[8])\n",
    "\n",
    "train_X = train[train.columns[:8]]\n",
    "test_X = test[test.columns[:8]]\n",
    "\n",
    "train_Y = train[8]\n",
    "test_Y = test[8]\n",
    "\n",
    "print train_X.shape\n",
    "print test_X.shape"
   ]
  },
  {
   "cell_type": "code",
   "execution_count": 8,
   "metadata": {},
   "outputs": [
    {
     "name": "stdout",
     "output_type": "stream",
     "text": [
      "104\n",
      "209\n",
      "313\n"
     ]
    }
   ],
   "source": [
    "count_1 = 0\n",
    "count_0 = 0\n",
    "for i in train_Y: \n",
    "    if i == 1: count_1+=1\n",
    "    if i == 0: count_0+=1 \n",
    "\n",
    "print count_1 \n",
    "print count_0\n",
    "print len(train_Y)"
   ]
  },
  {
   "cell_type": "code",
   "execution_count": 9,
   "metadata": {},
   "outputs": [],
   "source": [
    "test_X = test_X.values\n",
    "train_X = train_X.values\n",
    "test_Y = test_Y.values\n",
    "train_Y = train_Y.values"
   ]
  },
  {
   "cell_type": "code",
   "execution_count": 10,
   "metadata": {},
   "outputs": [],
   "source": [
    "train_Y_format = np.zeros(shape=(len(train_Y), 2))\n",
    "for i in range(len(train_Y)):\n",
    "    if train_Y[i] == 0: \n",
    "        train_Y_format[i] = [1,0]\n",
    "    elif train_Y[i] == 1: \n",
    "        train_Y_format[i] = [0,1]\n",
    "    else: \n",
    "        print \"uh oh\""
   ]
  },
  {
   "cell_type": "code",
   "execution_count": 11,
   "metadata": {},
   "outputs": [],
   "source": [
    "test_Y_format = np.zeros(shape=(len(test_Y), 2))\n",
    "for i in range(len(test_Y)):\n",
    "    if test_Y[i] == 0: \n",
    "        test_Y_format[i] = [1,0]\n",
    "    elif test_Y[i] == 1: \n",
    "        test_Y_format[i] = [0,1]\n",
    "    else: \n",
    "        print \"uh oh\""
   ]
  },
  {
   "cell_type": "markdown",
   "metadata": {},
   "source": [
    "# Let's attempt to train a logistic regression model # "
   ]
  },
  {
   "cell_type": "code",
   "execution_count": 12,
   "metadata": {},
   "outputs": [
    {
     "name": "stderr",
     "output_type": "stream",
     "text": [
      "/Users/calvin-is-seksy/anaconda/envs/main/lib/python2.7/site-packages/h5py/__init__.py:36: FutureWarning: Conversion of the second argument of issubdtype from `float` to `np.floating` is deprecated. In future, it will be treated as `np.float64 == np.dtype(float).type`.\n",
      "  from ._conv import register_converters as _register_converters\n",
      "Using TensorFlow backend.\n"
     ]
    }
   ],
   "source": [
    "from keras.models import Sequential \n",
    "from keras.layers import Dense, Activation \n",
    "from keras.regularizers import L1L2\n",
    "\n",
    "output_dim = nb_classes = 2\n",
    "input_dim = 8\n",
    "\n",
    "model = Sequential() \n",
    "model.add(Dense(output_dim, \n",
    "                input_dim=input_dim, \n",
    "                activation='softmax',\n",
    "                kernel_regularizer=L1L2(l1=0.0, l2=0.1),\n",
    "                )) \n",
    "batch_size = 5\n",
    "nb_epoch = 40"
   ]
  },
  {
   "cell_type": "code",
   "execution_count": 13,
   "metadata": {},
   "outputs": [
    {
     "name": "stderr",
     "output_type": "stream",
     "text": [
      "/Users/calvin-is-seksy/anaconda/envs/main/lib/python2.7/site-packages/keras/models.py:874: UserWarning: The `nb_epoch` argument in `fit` has been renamed `epochs`.\n",
      "  warnings.warn('The `nb_epoch` argument in `fit` '\n"
     ]
    },
    {
     "name": "stdout",
     "output_type": "stream",
     "text": [
      "Train on 313 samples, validate on 79 samples\n",
      "Epoch 1/40\n",
      "313/313 [==============================] - 0s 1ms/step - loss: 5.5448 - acc: 0.6677 - val_loss: 5.4509 - val_acc: 0.6709\n",
      "Epoch 2/40\n",
      "313/313 [==============================] - 0s 653us/step - loss: 5.4806 - acc: 0.6677 - val_loss: 5.4116 - val_acc: 0.6709\n",
      "Epoch 3/40\n",
      "313/313 [==============================] - 0s 609us/step - loss: 5.4500 - acc: 0.6677 - val_loss: 5.3879 - val_acc: 0.6709\n",
      "Epoch 4/40\n",
      "313/313 [==============================] - 0s 632us/step - loss: 5.4303 - acc: 0.6677 - val_loss: 5.3716 - val_acc: 0.6709\n",
      "Epoch 5/40\n",
      "313/313 [==============================] - 0s 709us/step - loss: 5.4162 - acc: 0.6677 - val_loss: 5.3595 - val_acc: 0.6709\n",
      "Epoch 6/40\n",
      "313/313 [==============================] - 0s 697us/step - loss: 5.4057 - acc: 0.6677 - val_loss: 5.3503 - val_acc: 0.6709\n",
      "Epoch 7/40\n",
      "313/313 [==============================] - 0s 655us/step - loss: 5.3975 - acc: 0.6677 - val_loss: 5.3431 - val_acc: 0.6709\n",
      "Epoch 8/40\n",
      "313/313 [==============================] - 0s 673us/step - loss: 5.3910 - acc: 0.6677 - val_loss: 5.3373 - val_acc: 0.6709\n",
      "Epoch 9/40\n",
      "313/313 [==============================] - 0s 603us/step - loss: 5.3858 - acc: 0.6677 - val_loss: 5.3326 - val_acc: 0.6709\n",
      "Epoch 10/40\n",
      "313/313 [==============================] - 0s 723us/step - loss: 5.3815 - acc: 0.6677 - val_loss: 5.3287 - val_acc: 0.6709\n",
      "Epoch 11/40\n",
      "313/313 [==============================] - 0s 830us/step - loss: 5.3779 - acc: 0.6677 - val_loss: 5.3254 - val_acc: 0.6709\n",
      "Epoch 12/40\n",
      "313/313 [==============================] - 0s 756us/step - loss: 5.3749 - acc: 0.6677 - val_loss: 5.3227 - val_acc: 0.6709\n",
      "Epoch 13/40\n",
      "313/313 [==============================] - 0s 701us/step - loss: 5.3724 - acc: 0.6677 - val_loss: 5.3204 - val_acc: 0.6709\n",
      "Epoch 14/40\n",
      "313/313 [==============================] - 0s 745us/step - loss: 5.3702 - acc: 0.6677 - val_loss: 5.3184 - val_acc: 0.6709\n",
      "Epoch 15/40\n",
      "313/313 [==============================] - 0s 664us/step - loss: 5.3684 - acc: 0.6677 - val_loss: 5.3167 - val_acc: 0.6709\n",
      "Epoch 16/40\n",
      "313/313 [==============================] - 0s 628us/step - loss: 5.3668 - acc: 0.6677 - val_loss: 5.3153 - val_acc: 0.6709\n",
      "Epoch 17/40\n",
      "313/313 [==============================] - 0s 709us/step - loss: 5.3655 - acc: 0.6677 - val_loss: 5.3140 - val_acc: 0.6709\n",
      "Epoch 18/40\n",
      "313/313 [==============================] - 0s 994us/step - loss: 5.3643 - acc: 0.6677 - val_loss: 5.3129 - val_acc: 0.6709\n",
      "Epoch 19/40\n",
      "313/313 [==============================] - 0s 668us/step - loss: 5.3633 - acc: 0.6677 - val_loss: 5.3120 - val_acc: 0.6709\n",
      "Epoch 20/40\n",
      "313/313 [==============================] - 0s 610us/step - loss: 5.3624 - acc: 0.6677 - val_loss: 5.3111 - val_acc: 0.6709\n",
      "Epoch 21/40\n",
      "313/313 [==============================] - 0s 604us/step - loss: 5.3616 - acc: 0.6677 - val_loss: 5.3104 - val_acc: 0.6709\n",
      "Epoch 22/40\n",
      "313/313 [==============================] - 0s 668us/step - loss: 5.3609 - acc: 0.6677 - val_loss: 5.3098 - val_acc: 0.6709\n",
      "Epoch 23/40\n",
      "313/313 [==============================] - 0s 683us/step - loss: 5.3603 - acc: 0.6677 - val_loss: 5.3092 - val_acc: 0.6709\n",
      "Epoch 24/40\n",
      "313/313 [==============================] - 0s 702us/step - loss: 5.3598 - acc: 0.6677 - val_loss: 5.3087 - val_acc: 0.6709\n",
      "Epoch 25/40\n",
      "313/313 [==============================] - 0s 823us/step - loss: 5.3593 - acc: 0.6677 - val_loss: 5.3083 - val_acc: 0.6709\n",
      "Epoch 26/40\n",
      "313/313 [==============================] - 0s 731us/step - loss: 5.3572 - acc: 0.6677 - val_loss: 5.2046 - val_acc: 0.6709\n",
      "Epoch 27/40\n",
      "313/313 [==============================] - 0s 682us/step - loss: 1.9461 - acc: 0.5463 - val_loss: 0.8280 - val_acc: 0.4177\n",
      "Epoch 28/40\n",
      "313/313 [==============================] - 0s 647us/step - loss: 0.7242 - acc: 0.6454 - val_loss: 0.6952 - val_acc: 0.6709\n",
      "Epoch 29/40\n",
      "313/313 [==============================] - 0s 673us/step - loss: 0.6253 - acc: 0.6805 - val_loss: 0.6367 - val_acc: 0.6582\n",
      "Epoch 30/40\n",
      "313/313 [==============================] - 0s 766us/step - loss: 0.6243 - acc: 0.6933 - val_loss: 0.6622 - val_acc: 0.6709\n",
      "Epoch 31/40\n",
      "313/313 [==============================] - 0s 794us/step - loss: 0.6044 - acc: 0.6933 - val_loss: 0.5992 - val_acc: 0.7089\n",
      "Epoch 32/40\n",
      "313/313 [==============================] - 0s 802us/step - loss: 0.5984 - acc: 0.7093 - val_loss: 0.7215 - val_acc: 0.6329\n",
      "Epoch 33/40\n",
      "313/313 [==============================] - 0s 994us/step - loss: 0.5978 - acc: 0.7252 - val_loss: 0.6019 - val_acc: 0.6962\n",
      "Epoch 34/40\n",
      "313/313 [==============================] - 0s 790us/step - loss: 0.5764 - acc: 0.7157 - val_loss: 0.6336 - val_acc: 0.6835\n",
      "Epoch 35/40\n",
      "313/313 [==============================] - 0s 699us/step - loss: 0.5917 - acc: 0.7188 - val_loss: 0.5996 - val_acc: 0.6962\n",
      "Epoch 36/40\n",
      "313/313 [==============================] - 0s 707us/step - loss: 0.5843 - acc: 0.6997 - val_loss: 0.6071 - val_acc: 0.6962\n",
      "Epoch 37/40\n",
      "313/313 [==============================] - 0s 850us/step - loss: 0.5784 - acc: 0.7125 - val_loss: 0.5995 - val_acc: 0.6962\n",
      "Epoch 38/40\n",
      "313/313 [==============================] - 0s 775us/step - loss: 0.5869 - acc: 0.7029 - val_loss: 0.5971 - val_acc: 0.6962\n",
      "Epoch 39/40\n",
      "313/313 [==============================] - 0s 741us/step - loss: 0.5693 - acc: 0.7348 - val_loss: 0.6569 - val_acc: 0.6709\n",
      "Epoch 40/40\n",
      "313/313 [==============================] - 0s 840us/step - loss: 0.5757 - acc: 0.6965 - val_loss: 0.5915 - val_acc: 0.7342\n",
      "('Test score:', 0.5914590471907507)\n",
      "('Test accuracy:', 0.7341772197168085)\n"
     ]
    }
   ],
   "source": [
    "model.compile(optimizer='adagrad', \n",
    "              loss='categorical_crossentropy', \n",
    "              metrics=['accuracy']) \n",
    "\n",
    "model.fit(train_X, train_Y_format, \n",
    "                    batch_size=batch_size, \n",
    "                    nb_epoch=nb_epoch,\n",
    "                    verbose=1, \n",
    "                    validation_data=(test_X, test_Y_format)) \n",
    "\n",
    "score = model.evaluate(test_X, test_Y_format, verbose=0) \n",
    "\n",
    "print('Test score:', score[0]) \n",
    "print('Test accuracy:', score[1])"
   ]
  },
  {
   "cell_type": "markdown",
   "metadata": {},
   "source": [
    "# RESULTS #\n",
    "\n",
    "So in this notebook, we chose to eradicate all instances with missing values. After training for 40 epochs with batch sizes of 5, we arrived at 73.4% accuracy. We will move on to the next notebook to attempt variations of data augmentation in hopes of increasing the usable dataset. "
   ]
  },
  {
   "cell_type": "code",
   "execution_count": null,
   "metadata": {},
   "outputs": [],
   "source": []
  }
 ],
 "metadata": {
  "kernelspec": {
   "display_name": "Python [conda env:main]",
   "language": "python",
   "name": "conda-env-main-py"
  },
  "language_info": {
   "codemirror_mode": {
    "name": "ipython",
    "version": 2
   },
   "file_extension": ".py",
   "mimetype": "text/x-python",
   "name": "python",
   "nbconvert_exporter": "python",
   "pygments_lexer": "ipython2",
   "version": "2.7.13"
  }
 },
 "nbformat": 4,
 "nbformat_minor": 2
}
