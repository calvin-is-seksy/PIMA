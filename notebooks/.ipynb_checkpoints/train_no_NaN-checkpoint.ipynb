{
 "cells": [
  {
   "cell_type": "markdown",
   "metadata": {},
   "source": [
    "# Predictive Modeling # \n",
    "We will use Keras for a logistic regression model. In this notebook, we will be eradicating all instances that include a missing value. With the training at the bottom of this notebook, we reach an accuracy of 69.6% diagnosis. "
   ]
  },
  {
   "cell_type": "code",
   "execution_count": 1,
   "metadata": {},
   "outputs": [],
   "source": [
    "import pandas as pd \n",
    "import matplotlib.pyplot as plt \n",
    "import seaborn as sb\n",
    "import numpy as np \n",
    "import itertools\n",
    "\n",
    "plt.style.use('fivethirtyeight')\n",
    "\n",
    "from subprocess import check_output \n",
    "\n",
    "from sklearn.model_selection import train_test_split\n",
    "from sklearn import metrics"
   ]
  },
  {
   "cell_type": "code",
   "execution_count": 2,
   "metadata": {},
   "outputs": [],
   "source": [
    "diabetes = pd.read_csv('../data/pima-indians-diabetes.data.csv', header=None)"
   ]
  },
  {
   "cell_type": "markdown",
   "metadata": {},
   "source": [
    "## Cleaning out the missing values ## "
   ]
  },
  {
   "cell_type": "code",
   "execution_count": 3,
   "metadata": {},
   "outputs": [
    {
     "data": {
      "text/html": [
       "<div>\n",
       "<style scoped>\n",
       "    .dataframe tbody tr th:only-of-type {\n",
       "        vertical-align: middle;\n",
       "    }\n",
       "\n",
       "    .dataframe tbody tr th {\n",
       "        vertical-align: top;\n",
       "    }\n",
       "\n",
       "    .dataframe thead th {\n",
       "        text-align: right;\n",
       "    }\n",
       "</style>\n",
       "<table border=\"1\" class=\"dataframe\">\n",
       "  <thead>\n",
       "    <tr style=\"text-align: right;\">\n",
       "      <th></th>\n",
       "      <th>0</th>\n",
       "      <th>1</th>\n",
       "      <th>2</th>\n",
       "      <th>3</th>\n",
       "      <th>4</th>\n",
       "      <th>5</th>\n",
       "      <th>6</th>\n",
       "      <th>7</th>\n",
       "      <th>8</th>\n",
       "    </tr>\n",
       "  </thead>\n",
       "  <tbody>\n",
       "    <tr>\n",
       "      <th>0</th>\n",
       "      <td>6</td>\n",
       "      <td>148</td>\n",
       "      <td>72</td>\n",
       "      <td>35</td>\n",
       "      <td>0</td>\n",
       "      <td>33.6</td>\n",
       "      <td>0.627</td>\n",
       "      <td>50</td>\n",
       "      <td>1</td>\n",
       "    </tr>\n",
       "    <tr>\n",
       "      <th>1</th>\n",
       "      <td>1</td>\n",
       "      <td>85</td>\n",
       "      <td>66</td>\n",
       "      <td>29</td>\n",
       "      <td>0</td>\n",
       "      <td>26.6</td>\n",
       "      <td>0.351</td>\n",
       "      <td>31</td>\n",
       "      <td>0</td>\n",
       "    </tr>\n",
       "    <tr>\n",
       "      <th>2</th>\n",
       "      <td>8</td>\n",
       "      <td>183</td>\n",
       "      <td>64</td>\n",
       "      <td>0</td>\n",
       "      <td>0</td>\n",
       "      <td>23.3</td>\n",
       "      <td>0.672</td>\n",
       "      <td>32</td>\n",
       "      <td>1</td>\n",
       "    </tr>\n",
       "  </tbody>\n",
       "</table>\n",
       "</div>"
      ],
      "text/plain": [
       "   0    1   2   3  4     5      6   7  8\n",
       "0  6  148  72  35  0  33.6  0.627  50  1\n",
       "1  1   85  66  29  0  26.6  0.351  31  0\n",
       "2  8  183  64   0  0  23.3  0.672  32  1"
      ]
     },
     "execution_count": 3,
     "metadata": {},
     "output_type": "execute_result"
    }
   ],
   "source": [
    "diabetes.head(3)"
   ]
  },
  {
   "cell_type": "code",
   "execution_count": 4,
   "metadata": {},
   "outputs": [
    {
     "name": "stdout",
     "output_type": "stream",
     "text": [
      "0      0\n",
      "1      5\n",
      "2     35\n",
      "3    227\n",
      "4    374\n",
      "5     11\n",
      "6      0\n",
      "7      0\n",
      "8      0\n",
      "dtype: int64\n"
     ]
    }
   ],
   "source": [
    "diabetes[[1,2,3,4,5]] = diabetes[[1,2,3,4,5]].replace(0, np.NaN)\n",
    "print(diabetes.isnull().sum())"
   ]
  },
  {
   "cell_type": "code",
   "execution_count": 5,
   "metadata": {},
   "outputs": [
    {
     "data": {
      "text/html": [
       "<div>\n",
       "<style scoped>\n",
       "    .dataframe tbody tr th:only-of-type {\n",
       "        vertical-align: middle;\n",
       "    }\n",
       "\n",
       "    .dataframe tbody tr th {\n",
       "        vertical-align: top;\n",
       "    }\n",
       "\n",
       "    .dataframe thead th {\n",
       "        text-align: right;\n",
       "    }\n",
       "</style>\n",
       "<table border=\"1\" class=\"dataframe\">\n",
       "  <thead>\n",
       "    <tr style=\"text-align: right;\">\n",
       "      <th></th>\n",
       "      <th>0</th>\n",
       "      <th>1</th>\n",
       "      <th>2</th>\n",
       "      <th>3</th>\n",
       "      <th>4</th>\n",
       "      <th>5</th>\n",
       "      <th>6</th>\n",
       "      <th>7</th>\n",
       "      <th>8</th>\n",
       "    </tr>\n",
       "  </thead>\n",
       "  <tbody>\n",
       "    <tr>\n",
       "      <th>0</th>\n",
       "      <td>6</td>\n",
       "      <td>148.0</td>\n",
       "      <td>72.0</td>\n",
       "      <td>35.0</td>\n",
       "      <td>NaN</td>\n",
       "      <td>33.6</td>\n",
       "      <td>0.627</td>\n",
       "      <td>50</td>\n",
       "      <td>1</td>\n",
       "    </tr>\n",
       "    <tr>\n",
       "      <th>1</th>\n",
       "      <td>1</td>\n",
       "      <td>85.0</td>\n",
       "      <td>66.0</td>\n",
       "      <td>29.0</td>\n",
       "      <td>NaN</td>\n",
       "      <td>26.6</td>\n",
       "      <td>0.351</td>\n",
       "      <td>31</td>\n",
       "      <td>0</td>\n",
       "    </tr>\n",
       "    <tr>\n",
       "      <th>2</th>\n",
       "      <td>8</td>\n",
       "      <td>183.0</td>\n",
       "      <td>64.0</td>\n",
       "      <td>NaN</td>\n",
       "      <td>NaN</td>\n",
       "      <td>23.3</td>\n",
       "      <td>0.672</td>\n",
       "      <td>32</td>\n",
       "      <td>1</td>\n",
       "    </tr>\n",
       "  </tbody>\n",
       "</table>\n",
       "</div>"
      ],
      "text/plain": [
       "   0      1     2     3   4     5      6   7  8\n",
       "0  6  148.0  72.0  35.0 NaN  33.6  0.627  50  1\n",
       "1  1   85.0  66.0  29.0 NaN  26.6  0.351  31  0\n",
       "2  8  183.0  64.0   NaN NaN  23.3  0.672  32  1"
      ]
     },
     "execution_count": 5,
     "metadata": {},
     "output_type": "execute_result"
    }
   ],
   "source": [
    "diabetes.head(3)"
   ]
  },
  {
   "cell_type": "markdown",
   "metadata": {},
   "source": [
    "## Eradicate all instances with NaN ## "
   ]
  },
  {
   "cell_type": "code",
   "execution_count": 6,
   "metadata": {},
   "outputs": [],
   "source": [
    "diabetes.dropna(inplace=True)"
   ]
  },
  {
   "cell_type": "code",
   "execution_count": 7,
   "metadata": {},
   "outputs": [
    {
     "name": "stdout",
     "output_type": "stream",
     "text": [
      "(313, 8)\n",
      "(79, 8)\n"
     ]
    }
   ],
   "source": [
    "train, test = train_test_split(diabetes, \n",
    "                               test_size=.20, \n",
    "                               random_state=0, \n",
    "                               stratify=diabetes[8])\n",
    "\n",
    "train_X = train[train.columns[:8]]\n",
    "test_X = test[test.columns[:8]]\n",
    "\n",
    "train_Y = train[8]\n",
    "test_Y = test[8]\n",
    "\n",
    "print train_X.shape\n",
    "print test_X.shape"
   ]
  },
  {
   "cell_type": "code",
   "execution_count": 8,
   "metadata": {},
   "outputs": [
    {
     "name": "stdout",
     "output_type": "stream",
     "text": [
      "104\n",
      "209\n",
      "313\n"
     ]
    }
   ],
   "source": [
    "count_1 = 0\n",
    "count_0 = 0\n",
    "for i in train_Y: \n",
    "    if i == 1: count_1+=1\n",
    "    if i == 0: count_0+=1 \n",
    "\n",
    "print count_1 \n",
    "print count_0\n",
    "print len(train_Y)"
   ]
  },
  {
   "cell_type": "code",
   "execution_count": 9,
   "metadata": {},
   "outputs": [],
   "source": [
    "test_X = test_X.values\n",
    "train_X = train_X.values\n",
    "test_Y = test_Y.values\n",
    "train_Y = train_Y.values"
   ]
  },
  {
   "cell_type": "code",
   "execution_count": 10,
   "metadata": {},
   "outputs": [],
   "source": [
    "train_Y_format = np.zeros(shape=(len(train_Y), 2))\n",
    "for i in range(len(train_Y)):\n",
    "    if train_Y[i] == 0: \n",
    "        train_Y_format[i] = [1,0]\n",
    "    elif train_Y[i] == 1: \n",
    "        train_Y_format[i] = [0,1]\n",
    "    else: \n",
    "        print \"uh oh\""
   ]
  },
  {
   "cell_type": "code",
   "execution_count": 11,
   "metadata": {},
   "outputs": [],
   "source": [
    "test_Y_format = np.zeros(shape=(len(test_Y), 2))\n",
    "for i in range(len(test_Y)):\n",
    "    if test_Y[i] == 0: \n",
    "        test_Y_format[i] = [1,0]\n",
    "    elif test_Y[i] == 1: \n",
    "        test_Y_format[i] = [0,1]\n",
    "    else: \n",
    "        print \"uh oh\""
   ]
  },
  {
   "cell_type": "markdown",
   "metadata": {},
   "source": [
    "# Let's attempt to train a logistic regression model # "
   ]
  },
  {
   "cell_type": "code",
   "execution_count": 12,
   "metadata": {},
   "outputs": [
    {
     "name": "stderr",
     "output_type": "stream",
     "text": [
      "/Users/calvin-is-seksy/anaconda/envs/main/lib/python2.7/site-packages/h5py/__init__.py:36: FutureWarning: Conversion of the second argument of issubdtype from `float` to `np.floating` is deprecated. In future, it will be treated as `np.float64 == np.dtype(float).type`.\n",
      "  from ._conv import register_converters as _register_converters\n",
      "Using TensorFlow backend.\n"
     ]
    }
   ],
   "source": [
    "from keras.models import Sequential \n",
    "from keras.layers import Dense, Activation \n",
    "from keras.regularizers import L1L2\n",
    "\n",
    "output_dim = nb_classes = 2\n",
    "input_dim = 8\n",
    "\n",
    "model = Sequential() \n",
    "model.add(Dense(output_dim, \n",
    "                input_dim=input_dim, \n",
    "                activation='softmax',\n",
    "                kernel_regularizer=L1L2(l1=0.0, l2=0.1),\n",
    "                )) \n",
    "batch_size = 5\n",
    "nb_epoch = 40"
   ]
  },
  {
   "cell_type": "code",
   "execution_count": 13,
   "metadata": {},
   "outputs": [
    {
     "name": "stderr",
     "output_type": "stream",
     "text": [
      "/Users/calvin-is-seksy/anaconda/envs/main/lib/python2.7/site-packages/keras/models.py:874: UserWarning: The `nb_epoch` argument in `fit` has been renamed `epochs`.\n",
      "  warnings.warn('The `nb_epoch` argument in `fit` '\n"
     ]
    },
    {
     "name": "stdout",
     "output_type": "stream",
     "text": [
      "Train on 313 samples, validate on 79 samples\n",
      "Epoch 1/40\n",
      "313/313 [==============================] - 0s 916us/step - loss: 7.5215 - acc: 0.4505 - val_loss: 7.1531 - val_acc: 0.5063\n",
      "Epoch 2/40\n",
      "313/313 [==============================] - 0s 727us/step - loss: 6.5808 - acc: 0.5527 - val_loss: 7.0191 - val_acc: 0.5696\n",
      "Epoch 3/40\n",
      "313/313 [==============================] - 0s 650us/step - loss: 5.9825 - acc: 0.6006 - val_loss: 6.3251 - val_acc: 0.5823\n",
      "Epoch 4/40\n",
      "313/313 [==============================] - 0s 677us/step - loss: 5.9631 - acc: 0.6070 - val_loss: 6.2561 - val_acc: 0.5949\n",
      "Epoch 5/40\n",
      "313/313 [==============================] - 0s 653us/step - loss: 5.9376 - acc: 0.6038 - val_loss: 6.4054 - val_acc: 0.5696\n",
      "Epoch 6/40\n",
      "313/313 [==============================] - 0s 651us/step - loss: 5.8930 - acc: 0.6070 - val_loss: 6.4071 - val_acc: 0.5696\n",
      "Epoch 7/40\n",
      "313/313 [==============================] - 0s 680us/step - loss: 5.8470 - acc: 0.6166 - val_loss: 6.3750 - val_acc: 0.5823\n",
      "Epoch 8/40\n",
      "313/313 [==============================] - 0s 719us/step - loss: 5.8446 - acc: 0.6102 - val_loss: 6.1811 - val_acc: 0.5949\n",
      "Epoch 9/40\n",
      "313/313 [==============================] - 0s 648us/step - loss: 5.8113 - acc: 0.6262 - val_loss: 6.1951 - val_acc: 0.5949\n",
      "Epoch 10/40\n",
      "313/313 [==============================] - 0s 648us/step - loss: 5.7709 - acc: 0.6262 - val_loss: 6.0114 - val_acc: 0.6203\n",
      "Epoch 11/40\n",
      "313/313 [==============================] - 0s 641us/step - loss: 5.6729 - acc: 0.6262 - val_loss: 5.8671 - val_acc: 0.6456\n",
      "Epoch 12/40\n",
      "313/313 [==============================] - 0s 668us/step - loss: 5.5605 - acc: 0.6486 - val_loss: 5.8114 - val_acc: 0.6582\n",
      "Epoch 13/40\n",
      "313/313 [==============================] - 0s 885us/step - loss: 5.4722 - acc: 0.6486 - val_loss: 5.8369 - val_acc: 0.6456\n",
      "Epoch 14/40\n",
      "313/313 [==============================] - 0s 793us/step - loss: 5.4244 - acc: 0.6581 - val_loss: 5.7917 - val_acc: 0.6456\n",
      "Epoch 15/40\n",
      "313/313 [==============================] - 0s 765us/step - loss: 5.3995 - acc: 0.6709 - val_loss: 5.8541 - val_acc: 0.6456\n",
      "Epoch 16/40\n",
      "313/313 [==============================] - 0s 841us/step - loss: 5.3869 - acc: 0.6613 - val_loss: 5.8804 - val_acc: 0.6456\n",
      "Epoch 17/40\n",
      "313/313 [==============================] - 0s 657us/step - loss: 5.3842 - acc: 0.6741 - val_loss: 5.9355 - val_acc: 0.6456\n",
      "Epoch 18/40\n",
      "313/313 [==============================] - 0s 645us/step - loss: 5.3995 - acc: 0.6613 - val_loss: 5.8923 - val_acc: 0.6456\n",
      "Epoch 19/40\n",
      "313/313 [==============================] - 0s 728us/step - loss: 5.3946 - acc: 0.6709 - val_loss: 5.8647 - val_acc: 0.6456\n",
      "Epoch 20/40\n",
      "313/313 [==============================] - 0s 685us/step - loss: 5.3621 - acc: 0.6741 - val_loss: 5.9960 - val_acc: 0.6456\n",
      "Epoch 21/40\n",
      "313/313 [==============================] - 0s 896us/step - loss: 5.3715 - acc: 0.6709 - val_loss: 5.9848 - val_acc: 0.6456\n",
      "Epoch 22/40\n",
      "313/313 [==============================] - 0s 829us/step - loss: 5.3731 - acc: 0.6741 - val_loss: 5.9302 - val_acc: 0.6456\n",
      "Epoch 23/40\n",
      "313/313 [==============================] - 0s 898us/step - loss: 5.4241 - acc: 0.6613 - val_loss: 6.0350 - val_acc: 0.6329\n",
      "Epoch 24/40\n",
      "313/313 [==============================] - 0s 742us/step - loss: 5.3665 - acc: 0.6709 - val_loss: 5.9778 - val_acc: 0.6456\n",
      "Epoch 25/40\n",
      "313/313 [==============================] - 0s 678us/step - loss: 5.3631 - acc: 0.6677 - val_loss: 6.0426 - val_acc: 0.6329\n",
      "Epoch 26/40\n",
      "313/313 [==============================] - 0s 696us/step - loss: 5.3419 - acc: 0.6550 - val_loss: 5.9928 - val_acc: 0.6456\n",
      "Epoch 27/40\n",
      "313/313 [==============================] - 0s 639us/step - loss: 5.3483 - acc: 0.6741 - val_loss: 5.9954 - val_acc: 0.6456\n",
      "Epoch 28/40\n",
      "313/313 [==============================] - 0s 636us/step - loss: 5.3461 - acc: 0.6709 - val_loss: 5.9968 - val_acc: 0.6456\n",
      "Epoch 29/40\n",
      "313/313 [==============================] - 0s 651us/step - loss: 5.3348 - acc: 0.6581 - val_loss: 6.0468 - val_acc: 0.6329\n",
      "Epoch 30/40\n",
      "313/313 [==============================] - 0s 703us/step - loss: 5.3435 - acc: 0.6581 - val_loss: 6.0340 - val_acc: 0.6329\n",
      "Epoch 31/40\n",
      "313/313 [==============================] - 0s 617us/step - loss: 5.3289 - acc: 0.6581 - val_loss: 6.0360 - val_acc: 0.6329\n",
      "Epoch 32/40\n",
      "313/313 [==============================] - 0s 683us/step - loss: 5.3324 - acc: 0.6741 - val_loss: 6.0117 - val_acc: 0.6456\n",
      "Epoch 33/40\n",
      "313/313 [==============================] - 0s 675us/step - loss: 5.3142 - acc: 0.6677 - val_loss: 6.0328 - val_acc: 0.6329\n",
      "Epoch 34/40\n",
      "313/313 [==============================] - 0s 753us/step - loss: 5.3353 - acc: 0.6550 - val_loss: 6.0511 - val_acc: 0.6329\n",
      "Epoch 35/40\n",
      "313/313 [==============================] - 0s 742us/step - loss: 5.3455 - acc: 0.6645 - val_loss: 5.9237 - val_acc: 0.6456\n",
      "Epoch 36/40\n",
      "313/313 [==============================] - 0s 686us/step - loss: 5.3380 - acc: 0.6741 - val_loss: 5.9803 - val_acc: 0.6456\n",
      "Epoch 37/40\n",
      "313/313 [==============================] - 0s 718us/step - loss: 5.2989 - acc: 0.6773 - val_loss: 6.0102 - val_acc: 0.6456\n",
      "Epoch 38/40\n",
      "313/313 [==============================] - 0s 679us/step - loss: 5.3264 - acc: 0.6581 - val_loss: 5.9936 - val_acc: 0.6456\n",
      "Epoch 39/40\n",
      "313/313 [==============================] - 0s 767us/step - loss: 5.2979 - acc: 0.6613 - val_loss: 6.0434 - val_acc: 0.6329\n",
      "Epoch 40/40\n",
      "313/313 [==============================] - 0s 803us/step - loss: 5.3226 - acc: 0.6677 - val_loss: 5.9781 - val_acc: 0.6456\n",
      "('Test score:', 5.978144537044477)\n",
      "('Test accuracy:', 0.6455696247800996)\n"
     ]
    }
   ],
   "source": [
    "model.compile(optimizer='adagrad', \n",
    "              loss='categorical_crossentropy', \n",
    "              metrics=['accuracy']) \n",
    "\n",
    "model.fit(train_X, train_Y_format, \n",
    "                    batch_size=batch_size, \n",
    "                    nb_epoch=nb_epoch,\n",
    "                    verbose=1, \n",
    "                    validation_data=(test_X, test_Y_format)) \n",
    "\n",
    "score = model.evaluate(test_X, test_Y_format, verbose=0) \n",
    "\n",
    "print('Test score:', score[0]) \n",
    "print('Test accuracy:', score[1])"
   ]
  },
  {
   "cell_type": "markdown",
   "metadata": {},
   "source": [
    "# RESULTS #\n",
    "\n",
    "So in this notebook, we chose to eradicate all instances with missing values. After training for 40 epochs with batch sizes of 5, we arrived at 73.4% accuracy. We will move on to the next notebook to attempt variations of data augmentation in hopes of increasing the usable dataset. "
   ]
  },
  {
   "cell_type": "code",
   "execution_count": null,
   "metadata": {},
   "outputs": [],
   "source": []
  }
 ],
 "metadata": {
  "kernelspec": {
   "display_name": "Python [conda env:main]",
   "language": "python",
   "name": "conda-env-main-py"
  },
  "language_info": {
   "codemirror_mode": {
    "name": "ipython",
    "version": 2
   },
   "file_extension": ".py",
   "mimetype": "text/x-python",
   "name": "python",
   "nbconvert_exporter": "python",
   "pygments_lexer": "ipython2",
   "version": "2.7.13"
  }
 },
 "nbformat": 4,
 "nbformat_minor": 2
}
